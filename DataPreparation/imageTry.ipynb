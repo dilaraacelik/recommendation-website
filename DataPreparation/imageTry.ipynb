{
 "cells": [
  {
   "cell_type": "code",
   "execution_count": 1,
   "metadata": {},
   "outputs": [],
   "source": [
    "import pandas as pd"
   ]
  },
  {
   "cell_type": "code",
   "execution_count": 2,
   "metadata": {},
   "outputs": [],
   "source": [
    "df1 = pd.read_csv('movieswithposters.csv')\n",
    "df = pd.read_csv('serieswithposters.csv')\n",
    "df2 = pd.read_csv('books.csv')"
   ]
  },
  {
   "cell_type": "code",
   "execution_count": 3,
   "metadata": {},
   "outputs": [
    {
     "data": {
      "text/plain": [
       "0       https://image.tmdb.org/t/p/original/hw2vi8agaJZ7oeSvS8uEYgOtK32.jpg\n",
       "1       https://image.tmdb.org/t/p/original/77OPlbsvX3pzoFbyfpcE3GXMCod.jpg\n",
       "2       https://image.tmdb.org/t/p/original/ywBt4WKADdMVgxTR1rS2uFwMYTH.jpg\n",
       "3       https://image.tmdb.org/t/p/original/2exOHePjOTquUsbThPGhuEjYTyA.jpg\n",
       "4       https://image.tmdb.org/t/p/original/vHqeLzYl3dEAutojCO26g0LIkom.jpg\n",
       "                                       ...                                 \n",
       "1041    https://image.tmdb.org/t/p/original/ztuH5aJIZQpu5ci27tY2nx1gwjO.jpg\n",
       "1042    https://image.tmdb.org/t/p/original/iQpZeDx4V1omxTCuAn4CYyi682O.jpg\n",
       "1043    https://image.tmdb.org/t/p/original/6vJ4dk4ZjZQy4RDR1lHh5SmtKYb.jpg\n",
       "1044    https://image.tmdb.org/t/p/original/c7HIZXKDaDekFAIcWU7bxP8cTv6.jpg\n",
       "1045    https://image.tmdb.org/t/p/original/8FVdrgWH2EwrYtQzXNsu0ax1TEk.jpg\n",
       "Name: poster_path, Length: 1046, dtype: object"
      ]
     },
     "execution_count": 3,
     "metadata": {},
     "output_type": "execute_result"
    }
   ],
   "source": [
    "pd.set_option('display.max_colwidth',None)\n",
    "df['poster_path']"
   ]
  },
  {
   "cell_type": "code",
   "execution_count": 4,
   "metadata": {},
   "outputs": [
    {
     "data": {
      "text/plain": [
       "0       https://image.tmdb.org/t/p/original/ui4DrH1cKk2vkHshcUcGt2lKxCm.jpg\n",
       "1       https://image.tmdb.org/t/p/original/mBaXZ95R2OxueZhvQbcEWy2DqyO.jpg\n",
       "2       https://image.tmdb.org/t/p/original/8xV47NDrjdZDpkVcCFqkdHa3T0C.jpg\n",
       "3       https://image.tmdb.org/t/p/original/jLLtx3nTRSLGPAKl4RoIv1FbEBr.jpg\n",
       "4       https://image.tmdb.org/t/p/original/tlcuhdNMKNGEVpGqBZrAaOOf1A6.jpg\n",
       "                                       ...                                 \n",
       "1042    https://image.tmdb.org/t/p/original/g4yJTzMtOBUTAR2Qnmj8TYIcFVq.jpg\n",
       "1043    https://image.tmdb.org/t/p/original/cUgYrz4twiJ3QgVGpRfey984NIB.jpg\n",
       "1044    https://image.tmdb.org/t/p/original/vDkct38sSFSWJIATlfJw0l3QOIR.jpg\n",
       "1045    https://image.tmdb.org/t/p/original/xazWoLealQwEgqZ89MLZklLZD3k.jpg\n",
       "1046    https://image.tmdb.org/t/p/original/3S0mmmpYStB3GqodRghcfOt81wQ.jpg\n",
       "Name: poster_path, Length: 1047, dtype: object"
      ]
     },
     "execution_count": 4,
     "metadata": {},
     "output_type": "execute_result"
    }
   ],
   "source": [
    "df1['poster_path']"
   ]
  },
  {
   "cell_type": "code",
   "execution_count": 5,
   "metadata": {},
   "outputs": [
    {
     "data": {
      "text/plain": [
       "0                                     https://images.gr-assets.com/books/1447303603m/2767052.jpg\n",
       "1                                           https://images.gr-assets.com/books/1474154022m/3.jpg\n",
       "2                                        https://images.gr-assets.com/books/1361975680m/2657.jpg\n",
       "3                                        https://images.gr-assets.com/books/1490528560m/4671.jpg\n",
       "4                                    https://images.gr-assets.com/books/1360206420m/11870085.jpg\n",
       "                                                  ...                                           \n",
       "1080                                 https://images.gr-assets.com/books/1362258921m/16102004.jpg\n",
       "1081    https://s.gr-assets.com/assets/nophoto/book/111x148-bcc042a9c91a29c1d680899eff700a03.png\n",
       "1082                                     https://images.gr-assets.com/books/1309282868m/5204.jpg\n",
       "1083                                   https://images.gr-assets.com/books/1328408101m/102920.jpg\n",
       "1084                                  https://images.gr-assets.com/books/1327879100m/7842288.jpg\n",
       "Name: image_url, Length: 1085, dtype: object"
      ]
     },
     "execution_count": 5,
     "metadata": {},
     "output_type": "execute_result"
    }
   ],
   "source": [
    "df2['image_url']"
   ]
  }
 ],
 "metadata": {
  "kernelspec": {
   "display_name": "Python 3",
   "language": "python",
   "name": "python3"
  },
  "language_info": {
   "codemirror_mode": {
    "name": "ipython",
    "version": 3
   },
   "file_extension": ".py",
   "mimetype": "text/x-python",
   "name": "python",
   "nbconvert_exporter": "python",
   "pygments_lexer": "ipython3",
   "version": "3.11.7"
  }
 },
 "nbformat": 4,
 "nbformat_minor": 2
}
